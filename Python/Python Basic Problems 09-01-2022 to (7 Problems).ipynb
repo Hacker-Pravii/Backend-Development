{
 "cells": [
  {
   "cell_type": "code",
   "execution_count": 1,
   "id": "90db363e",
   "metadata": {},
   "outputs": [
    {
     "name": "stdout",
     "output_type": "stream",
     "text": [
      "The Principle amount is1000\n",
      "The Time is 5\n",
      "The rate of intrest is 5\n",
      "The Simple Intrest is 250.0\n"
     ]
    }
   ],
   "source": [
    "#Simple Intrest\n",
    "def simpleintrest(p,t,r):\n",
    "    print(\"The Principle amount is{}\".format(p))\n",
    "    print(\"The Time is {}\".format(t))\n",
    "    print(\"The rate of intrest is {}\".format(r))\n",
    "    return (p*t*r)/100\n",
    "print(\"The Simple Intrest is {}\".format(simpleintrest(1000,5,5)))"
   ]
  },
  {
   "cell_type": "code",
   "execution_count": 2,
   "id": "c59c264b",
   "metadata": {},
   "outputs": [
    {
     "name": "stdout",
     "output_type": "stream",
     "text": [
      "[[1 0 1 0 1 0 1 0 1 0]\n",
      " [0 1 0 1 0 1 0 1 0 1]\n",
      " [1 0 1 0 1 0 1 0 1 0]\n",
      " [0 1 0 1 0 1 0 1 0 1]\n",
      " [1 0 1 0 1 0 1 0 1 0]\n",
      " [0 1 0 1 0 1 0 1 0 1]\n",
      " [1 0 1 0 1 0 1 0 1 0]\n",
      " [0 1 0 1 0 1 0 1 0 1]\n",
      " [1 0 1 0 1 0 1 0 1 0]\n",
      " [0 1 0 1 0 1 0 1 0 1]]\n"
     ]
    }
   ],
   "source": [
    "#Check board\n",
    "import numpy as np\n",
    "def check_board(n):\n",
    "    y = np.ones((n, n)).astype(np.int32)\n",
    "    y[1::2,::2]=0\n",
    "    y[::2,1::2]=0\n",
    "    print(y)\n",
    "check_board(10)"
   ]
  },
  {
   "cell_type": "code",
   "execution_count": 3,
   "id": "d4c0acaf",
   "metadata": {},
   "outputs": [
    {
     "name": "stdout",
     "output_type": "stream",
     "text": [
      "/ *\n",
      "/ **\n",
      "/ ***\n",
      "/ ****\n",
      "/ *****\n",
      "/ ******\n",
      "/ *******\n",
      "/ ********\n",
      "/ *********\n",
      "/ ********\n",
      "/ *******\n",
      "/ ******\n",
      "/ *****\n",
      "/ ****\n",
      "/ ***\n",
      "/ **\n",
      "/ *\n"
     ]
    }
   ],
   "source": [
    "def digital_pattern(n):\n",
    "    for i in n:\n",
    "        print(\"/\",end=\" \")\n",
    "        print(\"*\"*int(i))\n",
    "digital_pattern(\"12345678987654321\")"
   ]
  },
  {
   "cell_type": "code",
   "execution_count": 4,
   "id": "27f3d645",
   "metadata": {},
   "outputs": [
    {
     "data": {
      "text/plain": [
       "6288.946267774416"
      ]
     },
     "execution_count": 4,
     "metadata": {},
     "output_type": "execute_result"
    }
   ],
   "source": [
    "#A = P(1 + R/100) t \n",
    "def compound_intrest(p,r,t):\n",
    "    return (p*(pow((1 + r / 100), t)))-p\n",
    "compound_intrest(10000, 10.25, 5)"
   ]
  },
  {
   "cell_type": "code",
   "execution_count": 5,
   "id": "b81cf3ed",
   "metadata": {},
   "outputs": [
    {
     "name": "stdout",
     "output_type": "stream",
     "text": [
      "Enter Number153\n",
      "153 is arm strong number\n"
     ]
    }
   ],
   "source": [
    "# arm strong number\n",
    "arm=int(input(\"Enter Number\"))\n",
    "sm=0\n",
    "for i in str(arm):\n",
    "    sm+=int(i)**len(str(arm))\n",
    "if sm==arm:\n",
    "    print(f\"{arm} is arm strong number\")\n",
    "else:\n",
    "    print(f\"{arm} is not armstrong number\")"
   ]
  },
  {
   "cell_type": "code",
   "execution_count": 6,
   "id": "ae0e9f03",
   "metadata": {},
   "outputs": [
    {
     "name": "stdout",
     "output_type": "stream",
     "text": [
      "The Binary of integer 8001 is :0b1111101000001\n",
      "The Decimal Number of Binary 1111101000001 is :8001\n"
     ]
    }
   ],
   "source": [
    "#Decimalto Binaray\n",
    "def dec_bin(n):\n",
    "    binn=\"\"\n",
    "    while n!=0:\n",
    "        if n%2!=0:\n",
    "            binn+=\"1\"\n",
    "        else:\n",
    "            binn+=\"0\"\n",
    "        n=n//2\n",
    "    binn+=\"b0\"\n",
    "    return binn[::-1]\n",
    "#Binary to Decimal\n",
    "def bin_dec(binary):\n",
    "    dec,i=0,0\n",
    "    while binary!=0:\n",
    "        temp=binary%10\n",
    "        dec+=temp*(2**i)\n",
    "        binary//=10\n",
    "        i+=1\n",
    "    return dec\n",
    "binary=1111101000001\n",
    "integer=8001\n",
    "print(\"The Binary of integer {0} is :{1}\".format(integer,dec_bin(integer)))\n",
    "print(\"The Decimal Number of Binary {0} is :{1}\".format(binary,bin_dec(binary)))"
   ]
  },
  {
   "cell_type": "code",
   "execution_count": null,
   "id": "1823645b",
   "metadata": {},
   "outputs": [],
   "source": []
  },
  {
   "cell_type": "code",
   "execution_count": null,
   "id": "89f8a1ce",
   "metadata": {},
   "outputs": [],
   "source": []
  },
  {
   "cell_type": "code",
   "execution_count": null,
   "id": "fbb7e490",
   "metadata": {},
   "outputs": [],
   "source": []
  },
  {
   "cell_type": "code",
   "execution_count": null,
   "id": "ddd02ffb",
   "metadata": {},
   "outputs": [],
   "source": []
  },
  {
   "cell_type": "markdown",
   "id": "e38d680d",
   "metadata": {},
   "source": []
  },
  {
   "cell_type": "code",
   "execution_count": null,
   "id": "2330d5e5",
   "metadata": {},
   "outputs": [],
   "source": []
  },
  {
   "cell_type": "code",
   "execution_count": null,
   "id": "98024dc8",
   "metadata": {},
   "outputs": [],
   "source": []
  },
  {
   "cell_type": "code",
   "execution_count": null,
   "id": "caea2750",
   "metadata": {},
   "outputs": [],
   "source": []
  },
  {
   "cell_type": "code",
   "execution_count": null,
   "id": "319a8542",
   "metadata": {},
   "outputs": [],
   "source": []
  }
 ],
 "metadata": {
  "kernelspec": {
   "display_name": "Python 3 (ipykernel)",
   "language": "python",
   "name": "python3"
  },
  "language_info": {
   "codemirror_mode": {
    "name": "ipython",
    "version": 3
   },
   "file_extension": ".py",
   "mimetype": "text/x-python",
   "name": "python",
   "nbconvert_exporter": "python",
   "pygments_lexer": "ipython3",
   "version": "3.9.7"
  }
 },
 "nbformat": 4,
 "nbformat_minor": 5
}
