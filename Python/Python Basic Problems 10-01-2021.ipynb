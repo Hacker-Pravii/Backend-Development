{
 "cells": [
  {
   "cell_type": "code",
   "execution_count": 1,
   "id": "e65d21d6",
   "metadata": {},
   "outputs": [
    {
     "name": "stdout",
     "output_type": "stream",
     "text": [
      "The Area of the cirle is 78.550000\n"
     ]
    }
   ],
   "source": [
    "#Find the Area of the Circle\n",
    "def find_area(radius):\n",
    "    return 3.142 *(radius**2)\n",
    "print(\"The Area of the cirle is %.6f\"%find_area(5))"
   ]
  },
  {
   "cell_type": "code",
   "execution_count": 2,
   "id": "d89f936e",
   "metadata": {},
   "outputs": [],
   "source": [
    "#First Method\n",
    "def prime(n):\n",
    "    for i in range(2,n):\n",
    "        if n%i==0:\n",
    "            return False\n",
    "    else:\n",
    "        return True"
   ]
  },
  {
   "cell_type": "code",
   "execution_count": 3,
   "id": "6d422286",
   "metadata": {},
   "outputs": [],
   "source": [
    "#Second Method\n",
    "def prime1(n):\n",
    "    for i in range(2,int(n/2)+1):\n",
    "        if n%i==0:\n",
    "            return False\n",
    "    else:\n",
    "        return True "
   ]
  },
  {
   "cell_type": "code",
   "execution_count": 4,
   "id": "e02c4732",
   "metadata": {},
   "outputs": [],
   "source": [
    "#Third Method\n",
    "import math as m\n",
    "def prime2(n):\n",
    "    for i in range(2,int(m.sqrt(n))+1):\n",
    "        if n%i==0:\n",
    "            return False\n",
    "    else:\n",
    "        return True "
   ]
  },
  {
   "cell_type": "code",
   "execution_count": 5,
   "id": "d234b56e",
   "metadata": {},
   "outputs": [
    {
     "name": "stdout",
     "output_type": "stream",
     "text": [
      "25 25 25\n"
     ]
    }
   ],
   "source": [
    "li,li1,li2=[],[],[]\n",
    "for i in range(2,100):\n",
    "    if prime(i)==True:\n",
    "        li.append(i)\n",
    "for i in range(2,100):\n",
    "    if prime1(i)==True:\n",
    "        li1.append(i)\n",
    "for i in range(2,100):\n",
    "    if prime2(i)==True:\n",
    "        li2.append(i)\n",
    "print(len(li),len(li1),len(li2))"
   ]
  },
  {
   "cell_type": "code",
   "execution_count": 8,
   "id": "8677f7f2",
   "metadata": {},
   "outputs": [
    {
     "name": "stdout",
     "output_type": "stream",
     "text": [
      "2 3 5 7 11 13 17 19 23 29 31 37 41 43 47 53 59 61 67 71 73 79 83 89 97 "
     ]
    }
   ],
   "source": [
    "for i in range(2,100):\n",
    "    if prime2(i)==True:\n",
    "        print(i,end=\" \")"
   ]
  },
  {
   "cell_type": "code",
   "execution_count": 9,
   "id": "0cd2acf8",
   "metadata": {},
   "outputs": [
    {
     "name": "stdout",
     "output_type": "stream",
     "text": [
      "1\n",
      "2\n",
      "3\n",
      "5\n",
      "8\n",
      "13\n",
      "21\n",
      "34\n",
      "55\n",
      "89\n",
      "144\n",
      "233\n",
      "377\n",
      "610\n",
      "987\n",
      "1597\n",
      "2584\n",
      "4181\n",
      "6765\n",
      "10946\n"
     ]
    }
   ],
   "source": [
    "#Fibbonocci Numbers\n",
    "def fibbonocci(n):\n",
    "    a=0\n",
    "    b=1\n",
    "    for i in range(n):\n",
    "        temp=a+b\n",
    "        print(a+b)\n",
    "        a=b\n",
    "        b=temp\n",
    "fibbonocci(20)"
   ]
  }
 ],
 "metadata": {
  "kernelspec": {
   "display_name": "Python 3 (ipykernel)",
   "language": "python",
   "name": "python3"
  },
  "language_info": {
   "codemirror_mode": {
    "name": "ipython",
    "version": 3
   },
   "file_extension": ".py",
   "mimetype": "text/x-python",
   "name": "python",
   "nbconvert_exporter": "python",
   "pygments_lexer": "ipython3",
   "version": "3.9.7"
  }
 },
 "nbformat": 4,
 "nbformat_minor": 5
}
